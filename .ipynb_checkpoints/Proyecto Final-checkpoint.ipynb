{
 "cells": [
  {
   "cell_type": "markdown",
   "metadata": {},
   "source": [
    "## Batalla Naval"
   ]
  },
  {
   "cell_type": "code",
   "execution_count": 5,
   "metadata": {
    "collapsed": true
   },
   "outputs": [],
   "source": [
    "import numpy as np\n",
    "import random \n",
    "import colorama\n",
    "from colorama import Fore\n",
    "colorama.init()"
   ]
  },
  {
   "cell_type": "code",
   "execution_count": 6,
   "metadata": {},
   "outputs": [
    {
     "data": {
      "text/plain": [
       "array([[ 0.,  0.,  0.,  0.,  0.,  0.,  0.,  0.,  0.,  0.],\n",
       "       [ 0.,  0.,  0.,  0.,  0.,  0.,  0.,  0.,  0.,  0.],\n",
       "       [ 0.,  0.,  0.,  0.,  0.,  0.,  0.,  0.,  0.,  0.],\n",
       "       [ 0.,  0.,  0.,  0.,  0.,  0.,  0.,  0.,  0.,  0.],\n",
       "       [ 0.,  0.,  0.,  0.,  0.,  0.,  0.,  0.,  0.,  0.],\n",
       "       [ 0.,  0.,  0.,  0.,  0.,  0.,  0.,  0.,  0.,  0.],\n",
       "       [ 0.,  0.,  0.,  0.,  0.,  0.,  0.,  0.,  0.,  0.],\n",
       "       [ 0.,  0.,  0.,  0.,  0.,  0.,  0.,  0.,  0.,  0.],\n",
       "       [ 0.,  0.,  0.,  0.,  0.,  0.,  0.,  0.,  0.,  0.],\n",
       "       [ 0.,  0.,  0.,  0.,  0.,  0.,  0.,  0.,  0.,  0.]])"
      ]
     },
     "execution_count": 6,
     "metadata": {},
     "output_type": "execute_result"
    }
   ],
   "source": [
    "board= np.zeros((10,10))\n",
    "board"
   ]
  },
  {
   "cell_type": "code",
   "execution_count": 7,
   "metadata": {
    "collapsed": true
   },
   "outputs": [],
   "source": [
    "x =0\n",
    "for x in range (4):\n",
    "    board[3][x]=1\n",
    "    "
   ]
  },
  {
   "cell_type": "code",
   "execution_count": 8,
   "metadata": {},
   "outputs": [
    {
     "data": {
      "text/plain": [
       "array([[ 0.,  0.,  0.,  0.,  0.,  0.,  0.,  0.,  0.,  0.],\n",
       "       [ 0.,  0.,  0.,  0.,  0.,  0.,  0.,  0.,  0.,  0.],\n",
       "       [ 0.,  0.,  0.,  0.,  0.,  0.,  0.,  0.,  0.,  0.],\n",
       "       [ 1.,  1.,  1.,  1.,  0.,  0.,  0.,  0.,  0.,  0.],\n",
       "       [ 0.,  0.,  0.,  0.,  0.,  0.,  0.,  0.,  0.,  0.],\n",
       "       [ 0.,  0.,  0.,  0.,  0.,  0.,  0.,  0.,  0.,  0.],\n",
       "       [ 0.,  0.,  0.,  0.,  0.,  0.,  0.,  0.,  0.,  0.],\n",
       "       [ 0.,  0.,  0.,  0.,  0.,  0.,  0.,  0.,  0.,  0.],\n",
       "       [ 0.,  0.,  0.,  0.,  0.,  0.,  0.,  0.,  0.,  0.],\n",
       "       [ 0.,  0.,  0.,  0.,  0.,  0.,  0.,  0.,  0.,  0.]])"
      ]
     },
     "execution_count": 8,
     "metadata": {},
     "output_type": "execute_result"
    }
   ],
   "source": [
    "board"
   ]
  },
  {
   "cell_type": "code",
   "execution_count": 10,
   "metadata": {
    "collapsed": true
   },
   "outputs": [],
   "source": [
    "for x in range (3):\n",
    "    board[x][6]= 1"
   ]
  },
  {
   "cell_type": "code",
   "execution_count": 11,
   "metadata": {},
   "outputs": [
    {
     "data": {
      "text/plain": [
       "array([[ 0.,  0.,  0.,  0.,  0.,  0.,  1.,  0.,  0.,  0.],\n",
       "       [ 0.,  0.,  0.,  0.,  0.,  0.,  1.,  0.,  0.,  0.],\n",
       "       [ 0.,  0.,  0.,  0.,  0.,  0.,  1.,  0.,  0.,  0.],\n",
       "       [ 1.,  1.,  1.,  1.,  0.,  0.,  0.,  0.,  0.,  0.],\n",
       "       [ 0.,  0.,  0.,  0.,  0.,  0.,  0.,  0.,  0.,  0.],\n",
       "       [ 0.,  0.,  0.,  0.,  0.,  0.,  0.,  0.,  0.,  0.],\n",
       "       [ 0.,  0.,  0.,  0.,  0.,  0.,  0.,  0.,  0.,  0.],\n",
       "       [ 0.,  0.,  0.,  0.,  0.,  0.,  0.,  0.,  0.,  0.],\n",
       "       [ 0.,  0.,  0.,  0.,  0.,  0.,  0.,  0.,  0.,  0.],\n",
       "       [ 0.,  0.,  0.,  0.,  0.,  0.,  0.,  0.,  0.,  0.]])"
      ]
     },
     "execution_count": 11,
     "metadata": {},
     "output_type": "execute_result"
    }
   ],
   "source": [
    "board"
   ]
  },
  {
   "cell_type": "code",
   "execution_count": null,
   "metadata": {
    "collapsed": true
   },
   "outputs": [],
   "source": [
    "def random_shots2():# cordenadas aleatorias\n",
    "    x = 10\n",
    "    \n",
    "    shot=[0,0]\n",
    "    shot_array=[shot]\n",
    "    for i in range(100):\n",
    "        coord_x  =random.randint(0,9)\n",
    "        coord_y  =random.randint(0,9)\n",
    "        shot_coords = [coord_x, coord_y]\n",
    "        shot_array.append(shot_coords)\n",
    "    \n",
    "    return shot_array"
   ]
  },
  {
   "cell_type": "code",
   "execution_count": null,
   "metadata": {
    "collapsed": true
   },
   "outputs": [],
   "source": [
    "random_shots2()"
   ]
  },
  {
   "cell_type": "code",
   "execution_count": null,
   "metadata": {
    "collapsed": true
   },
   "outputs": [],
   "source": [
    "board"
   ]
  },
  {
   "cell_type": "code",
   "execution_count": null,
   "metadata": {
    "collapsed": true
   },
   "outputs": [],
   "source": [
    "shot =random_shots2()\n",
    "x =[]\n",
    "x = shot\n",
    "x\n"
   ]
  },
  {
   "cell_type": "code",
   "execution_count": null,
   "metadata": {
    "collapsed": true
   },
   "outputs": [],
   "source": [
    "board"
   ]
  },
  {
   "cell_type": "code",
   "execution_count": null,
   "metadata": {
    "collapsed": true
   },
   "outputs": [],
   "source": [
    "suma =0"
   ]
  },
  {
   "cell_type": "code",
   "execution_count": null,
   "metadata": {
    "collapsed": true
   },
   "outputs": [],
   "source": [
    "def suma_componentes(matrix,suma):\n",
    "    x = 0\n",
    "    y = 0\n",
    "    for x in range (9):\n",
    "        for y in range (9):\n",
    "            valor = matrix[x][y]\n",
    "            suma+= valor\n",
    "    return suma"
   ]
  },
  {
   "cell_type": "code",
   "execution_count": null,
   "metadata": {
    "collapsed": true
   },
   "outputs": [],
   "source": [
    "add=0\n",
    "suma_componentes(board,add)"
   ]
  },
  {
   "cell_type": "code",
   "execution_count": null,
   "metadata": {
    "collapsed": true
   },
   "outputs": [],
   "source": [
    "suma = suma_componentes(board,add)\n",
    "suma"
   ]
  },
  {
   "cell_type": "code",
   "execution_count": null,
   "metadata": {
    "collapsed": true
   },
   "outputs": [],
   "source": [
    "adder = 0 \n",
    "suma=0\n",
    "shot_counter =0"
   ]
  },
  {
   "cell_type": "code",
   "execution_count": null,
   "metadata": {
    "collapsed": true
   },
   "outputs": [],
   "source": [
    "suma_componentes(board,add)"
   ]
  },
  {
   "cell_type": "markdown",
   "metadata": {},
   "source": [
    "Disparos y Tablero final"
   ]
  },
  {
   "cell_type": "code",
   "execution_count": null,
   "metadata": {
    "collapsed": true
   },
   "outputs": [],
   "source": [
    "#hasta que la matriz esté vacia, es decir, en 0's\n",
    "add=0\n",
    "suma_matriz=0\n",
    "shot_counter = 0\n",
    "counter=0\n",
    "counter_aux=0\n",
    "while(suma_componentes(board,add)>0):\n",
    "    \n",
    "    if(counter>100):\n",
    "        counter_aux=counter\n",
    "        counter =0\n",
    "        \n",
    "    shot_array = np.asarray(shot[counter])\n",
    "    x_coord = shot_array[0]\n",
    "    y_coord = shot_array[1]\n",
    "    board[x_coord][y_coord]        \n",
    "    print(\"Tiro en la posición\",shot_array)\n",
    "    print(\"valor en el tablero: \",board[x_coord][y_coord])\n",
    "    if(board[x_coord][y_coord]==1):\n",
    "        shot_counter+=1\n",
    "        board[x_coord][y_coord]=0\n",
    "        print(\"HIT!\")\n",
    "        new_x= x_coord\n",
    "        new_y= y_coord\n",
    "        #org_possition=board[x_coord][y_coord]\n",
    "        if(new_x <9):\n",
    "          while(new_x<9):\n",
    "            new_x+=1\n",
    "            if(board[new_x][y_coord]==1):\n",
    "             shot_counter+=1\n",
    "             board[new_x][y_coord]=0\n",
    "             print(\"HIT!\")\n",
    "        elif(y_coord<9):\n",
    "           while(new_y<9):\n",
    "            new_y+=1\n",
    "            if(board[x_coord][new_y]==1):\n",
    "                shot_counter+=1\n",
    "                board[x_coord][new_y]=0\n",
    "                print(\"HIT!\")          \n",
    "        elif(new_x>0):\n",
    "            while(new_x>0):\n",
    "                new_x-=1\n",
    "                if(board[new_x][y_coord]==1):\n",
    "                 shot_counter+=1\n",
    "                 board[new_x][y_coord]=0\n",
    "                 print(\"HIT!\")\n",
    "        elif(new_y>0):\n",
    "            while(new_y>0):\n",
    "                new_y-=1\n",
    "                if(board[x_coord][new_y]==1):\n",
    "                 shot_counter+=1\n",
    "                 board[x_coord][new_y]=0\n",
    "                 print(\"HIT!\")\n",
    "    counter+=1  \n",
    "    counter+=counter_aux\n",
    "    suma_componentes(board,add)\n",
    "    print (\"Tiros acertados\",shot_counter)\n",
    "    print(\"Components de la matriz\",suma_componentes(board,add))\n",
    "    print(\"Tiros\",counter)\n",
    "                              \n",
    "                \n",
    "            \n",
    "\n",
    "board "
   ]
  },
  {
   "cell_type": "code",
   "execution_count": null,
   "metadata": {
    "collapsed": true
   },
   "outputs": [],
   "source": []
  }
 ],
 "metadata": {
  "kernelspec": {
   "display_name": "Python 3",
   "language": "python",
   "name": "python3"
  },
  "language_info": {
   "codemirror_mode": {
    "name": "ipython",
    "version": 3
   },
   "file_extension": ".py",
   "mimetype": "text/x-python",
   "name": "python",
   "nbconvert_exporter": "python",
   "pygments_lexer": "ipython3",
   "version": "3.6.3"
  }
 },
 "nbformat": 4,
 "nbformat_minor": 2
}
